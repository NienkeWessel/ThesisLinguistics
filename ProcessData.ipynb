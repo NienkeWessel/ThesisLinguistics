{
 "cells": [
  {
   "cell_type": "code",
   "execution_count": 1,
   "metadata": {},
   "outputs": [],
   "source": [
    "import pandas as pd\n",
    "import numpy as np\n",
    "import csv\n",
    "import unittest\n",
    "import matplotlib.pyplot as plt\n",
    "import math\n",
    "from dateutil import parser\n",
    "import re"
   ]
  },
  {
   "cell_type": "markdown",
   "metadata": {},
   "source": [
    "# Tolerance formula"
   ]
  },
  {
   "cell_type": "code",
   "execution_count": 2,
   "metadata": {},
   "outputs": [],
   "source": [
    "def tolerance_formula(N, e):\n",
    "    '''\n",
    "    Tolerance formula from Yang, p. 9\n",
    "    '''\n",
    "    print(N, e)\n",
    "    return e <= N/np.log(N)"
   ]
  },
  {
   "cell_type": "markdown",
   "metadata": {},
   "source": [
    "# Data file operations\n",
    "This part of the code deals with file operations, such as reading and closing files\n",
    "\n",
    "## Preferably use the final function for saving!\n",
    "Older ones are kind of deprecated"
   ]
  },
  {
   "cell_type": "code",
   "execution_count": 3,
   "metadata": {},
   "outputs": [],
   "source": [
    "def save_data(filename, df):\n",
    "    \"\"\"\n",
    "    Code from: https://www.kite.com/python/answers/how-to-save-a-pandas-dataframe-in-python\n",
    "    \"\"\"\n",
    "    df.to_pickle(filename)\n",
    "\n",
    "\n",
    "def read_data(filename):\n",
    "    \"\"\"\n",
    "    Code from: https://www.kite.com/python/answers/how-to-save-a-pandas-dataframe-in-python\n",
    "    \"\"\"\n",
    "    return pd.read_pickle(filename)"
   ]
  },
  {
   "cell_type": "code",
   "execution_count": 4,
   "metadata": {},
   "outputs": [],
   "source": [
    "def append_representation_to_dataframe(df):\n",
    "    '''\n",
    "    Appends the syllable representations of the model and realization to the dataframe \n",
    "    to have all information in one place\n",
    "    \n",
    "    df: data set, of which the representations need to be appended\n",
    "    \n",
    "    No return, as it mutates the df object\n",
    "    '''\n",
    "    df['rep_model'] = df.model.apply(build_syllable_representation)\n",
    "    df['rep_realization'] = df.realization.apply(build_syllable_representation)\n",
    "    #print(df)"
   ]
  },
  {
   "cell_type": "code",
   "execution_count": 5,
   "metadata": {},
   "outputs": [],
   "source": [
    "def write_nonmatches_to_csv(filename, df, comparison, header = ['Name', 'Age', 'word', 'model','realization','stressmodel','stressrealization'], apply_filter=True):\n",
    "    with open(filename, 'w', encoding='UTF8', newline='') as f:\n",
    "        writer = csv.writer(f)\n",
    "\n",
    "        # write the header\n",
    "        writer.writerow(header)\n",
    "\n",
    "        # write the data\n",
    "        for n, a, word, w,v in collect_nonmatches_metadata(df, comparison):\n",
    "            if not apply_filter:\n",
    "                writer.writerow([n,a,word,w, v, build_syllable_representation(w), build_syllable_representation(v)])\n",
    "            else:\n",
    "                rep_w = build_syllable_representation(w)\n",
    "                rep_v = build_syllable_representation(v)\n",
    "                # If at least one of the two representations has 2 or more syllables, then we are interested\n",
    "                if len(rep_w) >= 2 or len(rep_v) >= 2: \n",
    "                    writer.writerow([n,a,word,w, v, rep_w, rep_v])"
   ]
  },
  {
   "cell_type": "code",
   "execution_count": 6,
   "metadata": {},
   "outputs": [],
   "source": [
    "def write_stats_to_csv(filename, a,b,c,d,e):\n",
    "    '''\n",
    "    stats_mod, stats_act, stats_match, stats_nonmatch_mod, stats_nonmatch_act\n",
    "    '''\n",
    "    with open(filename, 'w', encoding='UTF8', newline='') as f:\n",
    "        writer = csv.writer(f)\n",
    "\n",
    "        # write the header\n",
    "        writer.writerow(['number','modellengthall','realizationlengthall','lengthmatch', 'modellengthnonmatch', 'realizationlengthnonmatch'])\n",
    "\n",
    "        # write the data\n",
    "        for i in range(10):\n",
    "            writer.writerow([i, a[i], b[i], c[i], d[i], e[i]])"
   ]
  },
  {
   "cell_type": "code",
   "execution_count": 7,
   "metadata": {},
   "outputs": [],
   "source": [
    "def write_df_to_csv(filename, df):\n",
    "    df.to_csv(filename)"
   ]
  },
  {
   "cell_type": "markdown",
   "metadata": {},
   "source": [
    "# Word class"
   ]
  },
  {
   "cell_type": "code",
   "execution_count": 8,
   "metadata": {},
   "outputs": [],
   "source": [
    "class Word:\n",
    "    def __init__(self, written, model, realization, rep_model, rep_realization):\n",
    "        self.written = written\n",
    "        self.model = model\n",
    "        self.realization = realization\n",
    "        self.rep_model = rep_model\n",
    "        self.rep_realization = rep_realization\n",
    "    \n",
    "    def __eq__(self, other):\n",
    "        return self.written == other.written\n",
    "    \n",
    "    def __hash__(self):\n",
    "        return self.written.__hash__()\n",
    "\n",
    "    def is_bisyl(self):\n",
    "        return len(self.rep_model) == 2\n",
    "    \n",
    "    def is_iambic_bisyl(self):\n",
    "        if len(self.rep_model) == 2:\n",
    "            return self.rep_model[1]\n",
    "        else:\n",
    "            return False \n",
    "    \n",
    "    def is_final_syllable_heavy(self):\n",
    "        if self.model[-1] in ipa_vowels:\n",
    "            # if the last letter is a vowel, we only have a heavy syllable if it is a diphtong, so if the letter before it is also a vowel\n",
    "            return self.model[-2] in ipa_vowels\n",
    "        else: #so final letter in agnostic_symbols or consonants\n",
    "            return True\n",
    "    \n",
    "    def matches_pattern(self, pattern, model = True):\n",
    "        '''\n",
    "        Calculates whether the word matches the stress pattern\n",
    "        \n",
    "        pattern: string of F(alse) and T(rue) or A(gnostic) indicating the stress placement\n",
    "        model: boolean which indicates whether to match to the model representation (True) or realization representation (False)\n",
    "        Agnostic (or any other symbol) can be used to indicate that one does not care about the stress placement\n",
    "        \n",
    "        return: \n",
    "        '''\n",
    "        if model:\n",
    "            word = self.rep_model\n",
    "        else:\n",
    "            word = self.rep_realization\n",
    "        \n",
    "        # Initial check for length match. If not equal, no point in persuing (and prevents out of bound errors later on)\n",
    "        if len(pattern) != len(word):\n",
    "            return False\n",
    "        \n",
    "        for i,c in enumerate(pattern):\n",
    "            if c == 'T':\n",
    "                if not word[i]:\n",
    "                    return False\n",
    "            if c == 'F':\n",
    "                if word[i]:\n",
    "                    return False\n",
    "        return True"
   ]
  },
  {
   "cell_type": "markdown",
   "metadata": {},
   "source": [
    "# Wordlist class"
   ]
  },
  {
   "cell_type": "code",
   "execution_count": 9,
   "metadata": {},
   "outputs": [],
   "source": [
    "class WordList:\n",
    "    \n",
    "    def __init__(self, time ):\n",
    "        '''\n",
    "        time: the point in time to which this wordlist refers\n",
    "        '''\n",
    "        pass\n",
    "        #self.time = time\n",
    "        #self.wordlist\n",
    "        \n",
    "    def __cmp__(self, other):\n",
    "        return cmp(self.age, other.age)\n",
    "    \n",
    "    def __lt__(self, other):\n",
    "        return self.age < other.age\n",
    "    \n",
    "    def __repr__(self):\n",
    "        return \"%s with length %s\" % (self.age, len(self.wordlist))\n",
    "    \n",
    "    def add_word(self, word):\n",
    "        pass\n",
    "\n",
    "    def add_prev_state_wordlist(prev_wordlist):\n",
    "        for word in prev_wordlist.wordlist:\n",
    "            self.add_word(word)\n",
    "    \n",
    "    def parse_age(self):\n",
    "        numbers = re.findall('\\d+', self.time)\n",
    "        # the age in months with a approximation for the number of days\n",
    "        return float(numbers[0])*12 + float(numbers[1]) + float(numbers[2])/31.0\n",
    "\n",
    "def leng(wordlist):\n",
    "    return len(wordlist.wordlist)"
   ]
  },
  {
   "cell_type": "code",
   "execution_count": 10,
   "metadata": {},
   "outputs": [],
   "source": [
    "class UniqueWordList(WordList):\n",
    "    \n",
    "    def __init__(self, time ):\n",
    "        '''\n",
    "        time: the point in time to which this wordlist refers\n",
    "        '''\n",
    "        self.time = time\n",
    "        self.age = self.parse_age()\n",
    "        self.wordlist = set()\n",
    "    \n",
    "    def add_word(self, word):\n",
    "        self.wordlist.add(word)"
   ]
  },
  {
   "cell_type": "code",
   "execution_count": 11,
   "metadata": {},
   "outputs": [],
   "source": [
    "class AllWordList(WordList):\n",
    "    \n",
    "    def __init__(self, time ):\n",
    "        '''\n",
    "        time: the point in time to which this wordlist refers\n",
    "        '''\n",
    "        self.time = time\n",
    "        self.age = self.parse_age()\n",
    "        self.wordlist = []    \n",
    "    \n",
    "    def add_word(self, word):\n",
    "        self.wordlist.append(word)\n"
   ]
  },
  {
   "cell_type": "markdown",
   "metadata": {},
   "source": [
    "# Child development class"
   ]
  },
  {
   "cell_type": "code",
   "execution_count": 12,
   "metadata": {},
   "outputs": [],
   "source": [
    "class DevelopmentCounts:\n",
    "    '''Class not in use yet!\n",
    "    \n",
    "    Might be useful later!\n",
    "    '''\n",
    "    \n",
    "    def __init__(self, patterns, length):\n",
    "        #iamb_bisyl_phases = \n",
    "        #patterns = {'FT': ['T', 'TF', 'TT', 'FT', 'AA']}\n",
    "        \n",
    "        # Goal structure:\n",
    "        # dictionary:\n",
    "        # { 'FT' :  ([], {'T': [], 'TF': [] } ),\n",
    "        #   'TF' :  ([], {'T': [], 'TF': [] } )\n",
    "        # }\n",
    "        \n",
    "        self.patterns\n",
    "        \n",
    "        self.counts = {}\n",
    "        \n",
    "        for p in self.patterns:\n",
    "            self.counts[p] = PatternDevCounts(p, self.patterns[p], length)\n",
    "            \n",
    "        \n",
    "    def count(self, word):\n",
    "        for p in self.patterns:\n",
    "            # loop through the patterns and count how many of those occurred in the data set\n",
    "            # Then count how many of them had the real_pattern as well\n",
    "                    \n",
    "            if word.matches_pattern(p):\n",
    "                self.counts[p][0][j] += 1\n",
    "                for real_pat in patterns[p]:\n",
    "                    if word.matches_pattern(real_pat, model = False): # If realizations matches the corresponding real pattern\n",
    "                        counts[p][1][real_pat][j] += 1\n",
    "        \n",
    "class PatternDevCounts:\n",
    "    \n",
    "    def __init___(self, model_pattern, real_patterns, length):\n",
    "        self.model_pattern = model_pattern\n",
    "        self.real_patterns = real_patterns\n",
    "        \n",
    "        self.mod_counts = np.zeros(length)\n",
    "        self.counts = {}\n",
    "        for rp in patterns[p]:\n",
    "            self.counts[rp] = np.zeros(length)"
   ]
  },
  {
   "cell_type": "code",
   "execution_count": 13,
   "metadata": {},
   "outputs": [],
   "source": [
    "class ChildDevelopment:\n",
    "    \n",
    "    def __init__(self, name):\n",
    "        '''\n",
    "        name: child's name (just for bookkeeping purposes)\n",
    "        '''\n",
    "        self.name = name\n",
    "        self.wordlists = []\n",
    "        self.complete_wordlists = []\n",
    "    \n",
    "    \n",
    "    def add_wordlist(self, wordlist, complete = False):\n",
    "        '''\n",
    "        Appends wordlist to the wordlists of the child\n",
    "        \n",
    "        wordlist: the wordlist to be added\n",
    "        '''\n",
    "        if not complete:\n",
    "            self.wordlists.append(wordlist)\n",
    "        else: \n",
    "            self.complete_wordlists.append(wordlist)\n",
    "\n",
    "    def collect_ages(self):\n",
    "        '''\n",
    "        Collects all the ages of the different wordlists and saves in ages attribute\n",
    "        '''\n",
    "        self.ages = []\n",
    "        for wordlist in self.complete_wordlists:\n",
    "            self.ages.append(wordlist.age)\n",
    "        \n",
    "    def calculate_total_vocab_dev(self):\n",
    "        '''\n",
    "        Calculates the development of the vocabulary size, i.e. how the vocabulary grows through time\n",
    "        \n",
    "        returns: list of cumulative vocabulary sizes\n",
    "        \n",
    "        Todo: Add something similar for the dates so that we have those\n",
    "        '''\n",
    "        print(self.wordlists[0])\n",
    "        development = []\n",
    "        total_wordlist = set()\n",
    "        for wordlist in self.wordlists:\n",
    "            \n",
    "            for word in wordlist.wordlist:\n",
    "                total_wordlist.add(word)\n",
    "            development.append(len(total_wordlist))\n",
    "        return development\n",
    "\n",
    "    \n",
    "    def calculate_development_by_patterns(self, patterns):\n",
    "        '''\n",
    "        Calculates the wordlists for a list of patterns and the total development\n",
    "        For efficiency, this is done at once (building wordlists is expensive)\n",
    "        \n",
    "        patterns: the patterns one wants the developments of\n",
    "        return: list of developments for the patterns\n",
    "        '''\n",
    "        developments_counts = {}\n",
    "        developments = {}\n",
    "        \n",
    "        for p in patterns:\n",
    "            developments[p] = set()\n",
    "            developments_counts[p] = []\n",
    "        \n",
    "        \n",
    "        for wordlist in self.wordlists:\n",
    "            for word in wordlist.wordlist:\n",
    "                for p in patterns:\n",
    "                    if word.matches_pattern(p):\n",
    "                        developments[p].add(word)\n",
    "            for p in patterns:\n",
    "                developments_counts[p].append(len(developments[p]))\n",
    "        \n",
    "        return developments_counts, developments\n",
    "        \n",
    "    def calculate_progress_of_patterns_old(self, goal_patterns, real_patterns):\n",
    "        '''\n",
    "        Calculates, through time, how certain \n",
    "        \n",
    "        TODO: fix that if you give two of the same pattern, the counts doubles\n",
    "        Idea: instead of separate goal_pattern, make real_patterns linked to goal_pattern so no\n",
    "        need to fill in same goal pattern twice\n",
    "        '''\n",
    "        goal_counts = {}\n",
    "        real_counts = {}\n",
    "        \n",
    "        for i, p in enumerate(goal_patterns):\n",
    "            goal_counts[p] = np.zeros(len(self.complete_wordlists))\n",
    "            real_counts[real_patterns[i]] = np.zeros(len(self.complete_wordlists))\n",
    "        \n",
    "        for j, wordlist in enumerate(self.complete_wordlists):\n",
    "            for word in wordlist.wordlist:\n",
    "                for i, p in enumerate(goal_patterns):\n",
    "                    # loop through the goal_patterns and count how many of those occurred in the data set\n",
    "                    # Then count how many of them had the real_pattern as well\n",
    "                    \n",
    "                    if word.matches_pattern(p):\n",
    "                        goal_counts[p][j] += 1\n",
    "                        if word.matches_pattern(real_patterns[i], model = False): # If realizations matches the corresponding real pattern\n",
    "                            real_counts[real_patterns[i]][j] += 1\n",
    "                            \n",
    "        return goal_counts, real_counts\n",
    "    \n",
    "    def calculate_progress_of_patterns(self, patterns):\n",
    "        '''\n",
    "        Calculates, through time, how often certain patterns occur\n",
    "        '''\n",
    "        #iamb_bisyl_phases = \n",
    "        #patterns = {'FT': ['T', 'TF', 'TT', 'FT', 'AA']}\n",
    "        \n",
    "        # Goal structure:\n",
    "        # dictionary:\n",
    "        # { 'FT' :  ([], {'T': [], 'TF': [] } ),\n",
    "        #   'TF' :  ([], {'T': [], 'TF': [] } )\n",
    "        # }\n",
    "        \n",
    "        counts = {}\n",
    "        \n",
    "        for p in patterns:\n",
    "            counts[p] = (np.zeros(len(self.complete_wordlists)), {})\n",
    "            for rp in patterns[p]:\n",
    "                counts[p][1][rp] = np.zeros(len(self.complete_wordlists))\n",
    "        \n",
    "        #for \n",
    "        \n",
    "        for j, wordlist in enumerate(self.complete_wordlists):\n",
    "            for word in wordlist.wordlist:\n",
    "                for p in patterns:\n",
    "                    # loop through the patterns and count how many of those occurred in the data set\n",
    "                    # Then count how many of them had the real_pattern as well\n",
    "                    \n",
    "                    if word.matches_pattern(p):\n",
    "                        counts[p][0][j] += 1\n",
    "                        for real_pat in patterns[p]:\n",
    "                            if word.matches_pattern(real_pat, model = False): # If realizations matches the corresponding real pattern\n",
    "                                counts[p][1][real_pat][j] += 1\n",
    "                            \n",
    "        return counts\n",
    "    \n",
    "    def determine_tolerance(self, total, exceptions):\n",
    "        '''\n",
    "        \n",
    "        '''\n",
    "        tolerance = []\n",
    "        for i in range(len(total)):\n",
    "            tolerance.append(tolerance_formula(total[i], exceptions[i]))\n",
    "        print(tolerance)\n",
    "        \n",
    "    \n",
    "    def plot_vocab_dev_bisyl(self):\n",
    "        development_bisyl, development_bisyl_iamb = self.calculate_bisyl_vocab_dev()\n",
    "        total_dev = self.calculate_total_vocab_dev()\n",
    "        \n",
    "        self.determine_tolerance(development_bisyl, development_bisyl_iamb)\n",
    "        \n",
    "        plt.plot(self.ages, total_dev, label='Total vocabulary')\n",
    "        plt.plot(self.ages, development_bisyl, label='Bisyllabic words')\n",
    "        plt.plot(self.ages, development_bisyl_iamb, label='Bisyllabic iambic words')\n",
    "        plt.title('Development of ' + self.name)\n",
    "        plt.legend()\n",
    "        plt.show()\n",
    "    \n",
    "    \n",
    "    def plot_vocab_dev(self, patterns):\n",
    "        developments_counts, developments = self.calculate_development_by_patterns(patterns)\n",
    "        total_dev = self.calculate_total_vocab_dev()\n",
    "        \n",
    "        #self.determine_tolerance(development_bisyl, development_bisyl_iamb)\n",
    "        \n",
    "        plt.plot(self.ages, total_dev, label='Total vocabulary')\n",
    "        for p in patterns:\n",
    "            plt.plot(self.ages, developments_counts[p], label=p)\n",
    "        plt.title('Development of ' + self.name)\n",
    "        plt.legend()\n",
    "        plt.show()\n",
    "    \n",
    "    def build_complete_wordlists(self, df):\n",
    "        '''\n",
    "        fills the complete_wordlists attribute based on the words in df\n",
    "        \n",
    "        df: the complete dataframe (with representations)\n",
    "        '''\n",
    "        df_child = df[df['Name'] == self.name]\n",
    "        indices = df[df['Name'] == self.name].index\n",
    "        prev_time = df_child.at[indices[0],'Age']\n",
    "        wordlist = AllWordList(prev_time)\n",
    "        for index, data_point in df_child.iterrows(): # Might be slow, see https://stackoverflow.com/questions/16476924/how-to-iterate-over-rows-in-a-dataframe-in-pandas\n",
    "            #print(data_point)\n",
    "            time = data_point['Age']\n",
    "            if prev_time != time: \n",
    "                self.add_wordlist(wordlist, complete = True)\n",
    "                wordlist = AllWordList(time)\n",
    "\n",
    "            word = Word(data_point['word'], data_point['model'], data_point['realization'], data_point['rep_model'], data_point['rep_realization'])\n",
    "            wordlist.add_word(word)\n",
    "\n",
    "            prev_time = time\n",
    "        self.complete_wordlists.sort()\n",
    "        \n",
    "        #This line should be somewhere else, make sure to call if after making wordlists\n",
    "        self.collect_ages()\n",
    "    \n",
    "    \n",
    "    def plot_count_patterns(self, counts, mode='moving_average'):\n",
    "        '''\n",
    "        Plots the counts over time. \n",
    "        \n",
    "        counts: per wordlist the count of that wordlist for the patterns specified\n",
    "            Expected counts structure:\n",
    "                dictionary:\n",
    "                { 'FT' :  ([], {'T': [], 'TF': [] } ),\n",
    "                  'TF' :  ([], {'T': [], 'TF': [] } )\n",
    "                }\n",
    "        mode: plot mode, options:\n",
    "            absolute: the simple total counts\n",
    "            relative: without the main model pattern, plots the counts of the realized subpatterns relative to the main pattern\n",
    "            per_100: total counts per 100 words (so divided by total words in that wordlist)\n",
    "            moving_average: moving average of total counts\n",
    "            per_100_moving: counts per 100 words averaged by moving average\n",
    "        '''\n",
    "        \n",
    "        for p in counts:\n",
    "            if mode == 'absolute':\n",
    "                p_plot = counts[p][0]\n",
    "            elif mode == 'per_100':\n",
    "                lengths = list(map(leng, self.complete_wordlists))\n",
    "                p_plot = (counts[p][0]/lengths)*100\n",
    "            elif mode == 'moving_average':\n",
    "                df_count_p = pd.DataFrame(counts[p][0])\n",
    "                p_plot = df_count_p[0].rolling(4, min_periods=1).mean()\n",
    "            elif mode == 'per_100_moving':\n",
    "                lengths = list(map(leng, self.complete_wordlists))\n",
    "                df_count_p = (pd.DataFrame(counts[p][0])[0]/lengths)*100\n",
    "                p_plot = df_count_p.rolling(4, min_periods=1).mean()\n",
    "            \n",
    "            if mode != 'relative':\n",
    "                plt.plot(self.ages, p_plot, label=\"model {}\".format(p))\n",
    "            \n",
    "            for rp in counts[p][1]:\n",
    "                if mode == 'absolute':\n",
    "                    rp_plot = counts[p][1][rp]\n",
    "                elif mode == 'relative':\n",
    "                    rp_plot = counts[p][1][rp]/counts[p][0]\n",
    "                elif mode == 'per_100':\n",
    "                    rp_plot = (counts[p][1][rp]/lengths)*100\n",
    "                elif mode == 'moving_average':\n",
    "                    df_count_rp = pd.DataFrame(counts[p][1][rp])\n",
    "                    rp_plot = df_count_rp[0].rolling(4, min_periods=1).mean()\n",
    "                elif mode == 'per_100_moving':\n",
    "                    df_count_rp = ((pd.DataFrame(counts[p][1][rp]))[0]/lengths)*100\n",
    "                    rp_plot = df_count_rp.rolling(4, min_periods=1).mean()\n",
    "                \n",
    "                plt.plot(self.ages, rp_plot, label=\"realization {}\".format(rp))\n",
    "        plt.title('Development of {} ({})'.format(self.name, mode))\n",
    "        plt.legend()\n",
    "        plt.show()"
   ]
  },
  {
   "cell_type": "code",
   "execution_count": 14,
   "metadata": {},
   "outputs": [],
   "source": [
    "def build_wordlists_for_child(name, df):\n",
    "    '''\n",
    "    builds the child development object and fills it with word lists through time\n",
    "    Assumes df is not shuffled (i.e. that the words from the same time point are next to each other)\n",
    "    \n",
    "    name: child name\n",
    "    df: complete dataframe\n",
    "    returns: child development object\n",
    "    \n",
    "    TODO: Maybe move to __init__ of child\n",
    "    '''\n",
    "    df_child = df[df['Name'] == name]\n",
    "    indices = df[df['Name'] == name].index\n",
    "    print(df_child)\n",
    "    prev_time = df_child.at[indices[0],'Age']\n",
    "    child_dev = ChildDevelopment(name)\n",
    "    wordlist = UniqueWordList(prev_time)\n",
    "    for index, data_point in df_child.iterrows(): # Might be slow, see https://stackoverflow.com/questions/16476924/how-to-iterate-over-rows-in-a-dataframe-in-pandas\n",
    "        #print(data_point)\n",
    "        time = data_point['Age']\n",
    "        if prev_time != time: \n",
    "            child_dev.add_wordlist(wordlist)\n",
    "            wordlist = UniqueWordList(time)\n",
    "        \n",
    "        word = Word(data_point['word'], data_point['model'], data_point['realization'], data_point['rep_model'], data_point['rep_realization'])\n",
    "        wordlist.add_word(word)\n",
    "        \n",
    "        prev_time = time\n",
    "    child_dev.wordlists.sort()\n",
    "    return(child_dev)"
   ]
  },
  {
   "cell_type": "code",
   "execution_count": null,
   "metadata": {},
   "outputs": [],
   "source": []
  },
  {
   "cell_type": "markdown",
   "metadata": {},
   "source": [
    "# Processing functions"
   ]
  },
  {
   "cell_type": "code",
   "execution_count": 15,
   "metadata": {},
   "outputs": [],
   "source": [
    "ipa_vowels = ['a', 'ɑ', 'œ', 'æ', 'y', 'o', 'ɑ̈', 'i', 'u', 'ɪ', 'ə', 'ɛ', 'e', 'ɔ', \n",
    "              'ʌ', 'ø̈', 'ɛ̝','ʉ', 'œ̞', 'œ', 'ɛ̞', 'ʔ', 'ɒ','ø', 'æ̝', 'ə̆', 'o͡', 'o̝', \n",
    "              'ʊ', 'ɯ', 'y', 'ɤ', 'ɨ', 'ɐ']#, '͡'] \n",
    "agnostic_symbols = ['͡', 'ː', 'ˑ'] # symbols that can either be a vowel or consonant"
   ]
  },
  {
   "cell_type": "code",
   "execution_count": 16,
   "metadata": {},
   "outputs": [],
   "source": [
    "def build_syllable_representation(word, secondary=False):\n",
    "    \"\"\"\n",
    "    word: the word of which you want the syllable representation\n",
    "    \n",
    "    Returns the representation of the syllable in the form of a list of booleans, where true represents stressed and false unstressed\n",
    "    \"\"\"\n",
    "    if not isinstance(word, str):\n",
    "        return []\n",
    "    \n",
    "    representation = []\n",
    "    stressed = False\n",
    "    vowels = False\n",
    "    for c in list(word):\n",
    "        #print(c)\n",
    "        if secondary and (c == \"ˈ\" or c == \"ˌ\"):\n",
    "            stressed = True\n",
    "        elif not secondary and c == \"ˈ\":\n",
    "            stressed = True\n",
    "        elif c in ipa_vowels:\n",
    "            if not vowels:\n",
    "                vowels = True\n",
    "                representation.append(stressed)\n",
    "                stressed = False\n",
    "        elif c not in agnostic_symbols: #if we do not know whether something is a vowel or consonant, we leave it be. If it is not a vowel and not agnostic, we have a consonant\n",
    "            vowels = False\n",
    "    return representation"
   ]
  },
  {
   "cell_type": "code",
   "execution_count": 17,
   "metadata": {},
   "outputs": [],
   "source": [
    "def stringify_representation(representation):\n",
    "    '''\n",
    "    representation: list of booleans (representing stress pattern\n",
    "    \n",
    "    returns: string of the stress pattern\n",
    "    '''\n",
    "    string = \"\"\n",
    "    for boolean in representation: \n",
    "        if boolean:\n",
    "            string += 'T'\n",
    "        else:\n",
    "            string += 'F'\n",
    "    return string\n"
   ]
  },
  {
   "cell_type": "markdown",
   "metadata": {},
   "source": [
    "## Functions of which it is unclear whether they are still useful"
   ]
  },
  {
   "cell_type": "code",
   "execution_count": 18,
   "metadata": {},
   "outputs": [],
   "source": [
    "def compare_realization_model(model, realization):\n",
    "    '''\n",
    "    \n",
    "    '''\n",
    "    assert(len(model) == len(realization))\n",
    "    \n",
    "    comparison = []\n",
    "    unequal_lengths = []\n",
    "    for i in np.arange(len(model)):\n",
    "        mod_word = build_syllable_representation(model[i])\n",
    "        act_word = build_syllable_representation(realization[i])\n",
    "        if len(mod_word) != len(act_word):\n",
    "            #print(\"not equal length\", i, mod_word, act_word)\n",
    "            unequal_lengths.append(i)\n",
    "            comparison.append(False)\n",
    "            continue\n",
    "        problem_encountered = False\n",
    "        for j in np.arange(len(mod_word)):\n",
    "            if mod_word[j] != act_word[j]:\n",
    "                problem_encountered = True\n",
    "                continue\n",
    "        comparison.append(not problem_encountered)\n",
    "    return comparison, unequal_lengths"
   ]
  },
  {
   "cell_type": "code",
   "execution_count": 19,
   "metadata": {},
   "outputs": [],
   "source": [
    "def collect_nonmatches_metadata(df, comparison):\n",
    "    '''\n",
    "    Finds the non matches within the data set and puts the model and the realization next to each other\n",
    "    \n",
    "    df: data set\n",
    "    comparison: list of booleans that where true is a match and false is not a match\n",
    "    \n",
    "    returns a list of five-tuples of non-matching syllable structures preceded by the meta-data\n",
    "    '''\n",
    "    cases = []\n",
    "    for i, boolean in enumerate(comparison):\n",
    "        if not boolean:\n",
    "            cases.append((df.Name[i], df.Age[i], df.word[i], df.model[i], df.realization[i]))\n",
    "    return cases"
   ]
  },
  {
   "cell_type": "code",
   "execution_count": 20,
   "metadata": {},
   "outputs": [],
   "source": [
    "def collect_nonmatches(df, comparison):\n",
    "    '''\n",
    "    Finds the non matches within the data set and puts the model and the realization next to each other\n",
    "    \n",
    "    df: data set\n",
    "    comparison: list of booleans that where true is a match and false is not a match\n",
    "    \n",
    "    returns a list of pairs of non-matching syllable structures\n",
    "    '''\n",
    "    cases = []\n",
    "    for i, boolean in enumerate(comparison):\n",
    "        if not boolean:\n",
    "            cases.append((df.model[i], df.realization[i]))\n",
    "    return cases"
   ]
  },
  {
   "cell_type": "code",
   "execution_count": 21,
   "metadata": {},
   "outputs": [],
   "source": [
    "def statistics(df, comparison, save=False):\n",
    "    '''\n",
    "    Calculates statistics on the syllable structure of the dataset \n",
    "    \n",
    "    df: the data frame on which the statistics need to be calculated\n",
    "    comparison: the list of booleans where true indicates model and realization match, and false that they do not match\n",
    "    save: optional argument on whether to save the statistics to a csv file\n",
    "    \n",
    "    returns five dictionaries with statistics\n",
    "    TODO TODO TODO \n",
    "    '''\n",
    "    stats_mod, stats_act, stats_match, stats_nonmatch_mod, stats_nonmatch_act = {}, {}, {}, {}, {}\n",
    "    for i in np.arange(10):\n",
    "        stats_mod[i] = 0\n",
    "        stats_act[i] = 0\n",
    "        stats_match[i] = 0\n",
    "        stats_nonmatch_mod[i] = 0\n",
    "        stats_nonmatch_act[i] = 0\n",
    "    #print(comparison)\n",
    "    for i, boolean in enumerate(comparison):\n",
    "        rep_mod = build_syllable_representation(df.model[i])\n",
    "        rep_act = build_syllable_representation(df.realization[i])\n",
    "        stats_mod[len(rep_mod)] += 1\n",
    "        stats_act[len(rep_act)] += 1\n",
    "        if boolean:\n",
    "            stats_match[len(rep_mod)] += 1\n",
    "        else:\n",
    "            stats_nonmatch_mod[len(rep_mod)] += 1\n",
    "            stats_nonmatch_act[len(rep_act)] += 1\n",
    "    #print(stats_mod, stats_act, stats_match, stats_nonmatch_mod, stats_nonmatch_act)\n",
    "    if save:\n",
    "        write_stats_to_csv('stats.csv', stats_mod, stats_act, stats_match, stats_nonmatch_mod, stats_nonmatch_act)\n",
    "    return stats_mod, stats_act, stats_match, stats_nonmatch_mod, stats_nonmatch_act"
   ]
  },
  {
   "cell_type": "code",
   "execution_count": null,
   "metadata": {},
   "outputs": [],
   "source": []
  },
  {
   "cell_type": "code",
   "execution_count": 22,
   "metadata": {},
   "outputs": [],
   "source": [
    "def filter_iambic_bisyllabic_words(df):\n",
    "    filter_bisyl = [True if l==2 else False for l in df.rep_model.apply(len) ]#df.rep_model.apply(len) #and df.rep_model[1]\n",
    "    #print(filter_iamb)\n",
    "    filtered = df[filter_bisyl]\n",
    "    filter_iamb = [r[1] for r in filtered.rep_model]\n",
    "    return filtered[filter_iamb] #Second thing returns booleans, we are interested when these are True\n",
    "    \n",
    "def filter_trisyllabic_words(df):\n",
    "    filter_trisyl = [True if l==3 else False for l in df.rep_model.apply(len) ]#df.rep_model.apply(len) #and df.rep_model[1]\n",
    "    #print(filter_iamb)\n",
    "    return df[filter_trisyl]\n",
    "\n",
    "def add_heavy_fin_syl_column(df):\n",
    "    df['heavy_final_syl'] = df.model.apply(is_final_syllable_heavy)\n"
   ]
  },
  {
   "cell_type": "code",
   "execution_count": 23,
   "metadata": {},
   "outputs": [],
   "source": [
    "def iambic_bysyl_investigation():\n",
    "    iamb_bisyl = filter_iambic_bisyllabic_words(df)\n",
    "    add_heavy_fin_syl_column(iamb_bisyl)\n",
    "    print(iamb_bisyl)\n",
    "    print(np.sum(iamb_bisyl.heavy_final_syl))\n",
    "    print(iamb_bisyl[ [not b for b in iamb_bisyl.heavy_final_syl] ])\n",
    "\n",
    "#write_df_to_csv('iamb_bisyl.csv', filter_iambic_bisyllabic_words(df))\n",
    "\n",
    "\n",
    "def trisyl_investigation(df):\n",
    "    # main function to collect trisyllabic words\n",
    "    df_trisyl = filter_trisyllabic_words(df)\n",
    "    write_df_to_csv('trisyl.csv', df_trisyl)\n",
    "    df_trisyl_unique = df_trisyl.drop_duplicates(subset = [\"word\"])\n",
    "    write_df_to_csv('trisyl_unique.csv', df_trisyl_unique)"
   ]
  },
  {
   "cell_type": "markdown",
   "metadata": {},
   "source": [
    "# Legacy code"
   ]
  },
  {
   "cell_type": "code",
   "execution_count": 24,
   "metadata": {},
   "outputs": [],
   "source": [
    "def is_final_syllable_heavy(word):\n",
    "    '''\n",
    "    DEPRECATED, JUST HERE TO MAKE THE TESTING CLASS HAPPY\n",
    "    Use the function in the Word class instead\n",
    "    '''\n",
    "    if word[-1] in ipa_vowels:\n",
    "        # if the last letter is a vowel, we only have a heavy syllable if it is a diphtong, so if the letter before it is also a vowel\n",
    "        return word[-2] in ipa_vowels\n",
    "    else: #so final letter in agnostic_symbols or consonants\n",
    "        return True"
   ]
  },
  {
   "cell_type": "markdown",
   "metadata": {},
   "source": [
    "# Calculate how many words of different types there are\n",
    "Produces list of the different word type patterns and their occurences"
   ]
  },
  {
   "cell_type": "code",
   "execution_count": 25,
   "metadata": {},
   "outputs": [],
   "source": [
    "def collect_unique_words(df):\n",
    "    '''\n",
    "    Collects all unique words in the data set\n",
    "    \n",
    "    df: complete data set including representations\n",
    "    returns: set of words (in IPA)\n",
    "    '''\n",
    "    words = set()\n",
    "    for word in df['model']:\n",
    "        words.add(word)\n",
    "    return words\n",
    "\n",
    "def make_df_words_repr(words):\n",
    "    '''\n",
    "    Make new dataframe with just the words (in IPA) and the representation\n",
    "    \n",
    "    words: set of words (in IPA)\n",
    "    returns: dataframe with word and repr of word\n",
    "    '''\n",
    "    df = pd.DataFrame(columns=['word','representation'])\n",
    "    for word in words:\n",
    "        df = pd.concat([df, pd.DataFrame.from_records([{'word': word, 'representation': build_syllable_representation(word)}])], ignore_index=True)\n",
    "    return df\n",
    "\n",
    "def calculate_nr_word_types(df):\n",
    "    '''\n",
    "    calculates the number of occurrences of each word type\n",
    "    \n",
    "    df: dataframe with word (in IPA) and stringified representation\n",
    "    returns: counts of the representation\n",
    "    '''\n",
    "    # Lists are not hashable, so we stringify the list representation, which is hashable\n",
    "    strings = df['representation'].apply(stringify_representation)\n",
    "    return strings.value_counts()"
   ]
  },
  {
   "cell_type": "code",
   "execution_count": 26,
   "metadata": {},
   "outputs": [],
   "source": [
    "def word_type_investigation():\n",
    "    words = collect_unique_words(df)\n",
    "    words_reprs = make_df_words_repr(words)\n",
    "    counts = calculate_nr_word_types(words_reprs)\n",
    "    print(counts)"
   ]
  },
  {
   "cell_type": "markdown",
   "metadata": {},
   "source": [
    "# Test cases"
   ]
  },
  {
   "cell_type": "code",
   "execution_count": 27,
   "metadata": {},
   "outputs": [],
   "source": [
    "class MyTest(unittest.TestCase):\n",
    "    def test_build_syllable_representation(self, secondary=False):\n",
    "        '''\n",
    "        Tests the build_syllable_representation function with different examples\n",
    "        Also used to see if something breaks after adjusting\n",
    "        '''\n",
    "    \n",
    "        if not secondary:\n",
    "            #one syllable word, with bridge\n",
    "            self.assertEqual([True], build_syllable_representation('ˈbu̠t͡s'))\n",
    "            \n",
    "            #simple two syllable words with different stress\n",
    "            self.assertEqual([False, True], build_syllable_representation('koːˈlɛin'))\n",
    "            self.assertEqual([True, False], build_syllable_representation('ˈpukə'))\n",
    "            self.assertEqual([True, False], build_syllable_representation('ˈɡʊkʊk'))\n",
    "            \n",
    "            #other\n",
    "            self.assertEqual([True, False, False], build_syllable_representation('ˈʔaːˌkleːdə'))\n",
    "            \n",
    "            self.assertEqual([True, False], build_syllable_representation('ˈpinoːŭ'))\n",
    "            self.assertEqual([True, False, False], build_syllable_representation('ˈzeˌot͡jɑ̈s'))\n",
    "            self.assertEqual([True, False], build_syllable_representation('ˈnæˑŋi'))\n",
    "            \n",
    "            \n",
    "            \n",
    "\n",
    "    def test_is_final_syllable_heavy(self):\n",
    "        self.assertEqual(True, is_final_syllable_heavy('ˈzeˌot͡jɑ̈s'))\n",
    "        self.assertEqual(True, is_final_syllable_heavy('koːˈlɛin'))\n",
    "        self.assertEqual(True, is_final_syllable_heavy('koˈnɛi'))\n",
    "        self.assertEqual(False, is_final_syllable_heavy('ˈpukə'))\n",
    "        self.assertEqual(True, is_final_syllable_heavy('ˈbu̠t͡s'))\n",
    "        self.assertEqual(True, is_final_syllable_heavy('kˈɑpχː'))\n",
    "        self.assertEqual(True, is_final_syllable_heavy('neː'))\n",
    "        self.assertEqual(True, is_final_syllable_heavy('fiˈjoʋ'))"
   ]
  },
  {
   "cell_type": "markdown",
   "metadata": {},
   "source": [
    "# Reproduce tables from Fikkert"
   ]
  },
  {
   "cell_type": "code",
   "execution_count": 28,
   "metadata": {},
   "outputs": [],
   "source": [
    "def reproduce_tables(df, children_names):\n",
    "    '''\n",
    "    Reproduces the data from the tables from Fikkert, p. 25\n",
    "    That is, function calculates the total amount of model bisyllabic words and calculates \n",
    "    the percentage that is realized in a truncated way, differentiating between iambic and\n",
    "    trochaic words. \n",
    "    \n",
    "    df: the complete data from with representations\n",
    "    children_names: the names of the children for which the calculations need to be done\n",
    "    returns: dictionary with the child names and the totals of model bisyllabic words and truncated forms\n",
    "    '''\n",
    "    data_per_child = {}\n",
    "    for child in children_names:\n",
    "        ch_data = df[df['Name'] == child]\n",
    "        #print(ch_data)\n",
    "        total_bisyl_iamb = 0\n",
    "        total_bisyl_troc = 0\n",
    "        trunc_bisyl_iamb = 0\n",
    "        trunc_bisyl_troc = 0\n",
    "        for index, data_point in ch_data.iterrows(): \n",
    "            if len(data_point['rep_model'])== 2:\n",
    "                #if not data_point['rep_model'][0] and data_point['rep_model'][1]:\n",
    "                if data_point['rep_model'][1]:\n",
    "                    total_bisyl_iamb += 1\n",
    "                    if len(data_point['rep_realization']) == 1:\n",
    "                        trunc_bisyl_iamb += 1\n",
    "                #if data_point['rep_model'][0] and not data_point['rep_model'][1]:\n",
    "                if data_point['rep_model'][0]:\n",
    "                    total_bisyl_troc += 1\n",
    "                    if len(data_point['rep_realization']) == 1:\n",
    "                        trunc_bisyl_troc += 1\n",
    "        data_per_child[child] = (total_bisyl_iamb, total_bisyl_troc, trunc_bisyl_iamb, trunc_bisyl_troc)\n",
    "    return data_per_child\n",
    "\n",
    "def pretty_print_tables(data_per_child, children_names):\n",
    "    '''\n",
    "    Prints the percentages of truncated bisyllabic trochees and iambs\n",
    "    \n",
    "    data_per_child: dictionary with the child names and the totals of model bisyllabic words and truncated forms\n",
    "    children_names: the names of the children for which the data needs to be printed\n",
    "    \n",
    "    '''\n",
    "    for child in children_names:\n",
    "        data = data_per_child[child]\n",
    "        print(child, \":\")\n",
    "        print( (data[3]/data[1])*100 ) \n",
    "        print( (data[2]/data[0])*100 ) #trunc iamb divided by total iamb"
   ]
  },
  {
   "cell_type": "code",
   "execution_count": 29,
   "metadata": {},
   "outputs": [],
   "source": [
    "def run_reproduce_tables(children_names):\n",
    "    '''\n",
    "    Reproduces the tables from Fikkert p. 25\n",
    "    '''\n",
    "    child_per_data = reproduce_tables(df, children_names)\n",
    "    pretty_print_tables(child_per_data, children_names)"
   ]
  },
  {
   "cell_type": "markdown",
   "metadata": {},
   "source": [
    "# Phase development\n",
    "\n",
    "This part of the code goes through the phase development of the children"
   ]
  },
  {
   "cell_type": "markdown",
   "metadata": {},
   "source": [
    "## Phase 1\n",
    "\n",
    "In phase 1, the child truncates the bisyllabic word and produces it as monosyllabic. Only the stressed syllable of the adult target is produced."
   ]
  },
  {
   "cell_type": "code",
   "execution_count": 30,
   "metadata": {},
   "outputs": [],
   "source": [
    "def calc_phase_1_dev(child, patterns):\n",
    "    counts = child.calculate_progress_of_patterns(patterns)\n",
    "    return counts"
   ]
  },
  {
   "cell_type": "markdown",
   "metadata": {},
   "source": [
    "# Main\n",
    "\n",
    "This section contains different mains that use the function above to extract (hopefully) useful data"
   ]
  },
  {
   "cell_type": "code",
   "execution_count": 31,
   "metadata": {},
   "outputs": [],
   "source": [
    "# Run tests\n",
    "test = MyTest()\n",
    "test.test_build_syllable_representation()\n",
    "test.test_is_final_syllable_heavy()"
   ]
  },
  {
   "cell_type": "code",
   "execution_count": 32,
   "metadata": {},
   "outputs": [],
   "source": [
    "file_names_read = {\n",
    "    'Grimm': \"Grimm.pkl\",\n",
    "    'CLPF': \"data2.pkl\",\n",
    "    'FoxBoyer' : \"FoxBoyer.pkl\",\n",
    "    'Bracci' : 'Bracci.pkl'\n",
    "}\n",
    "file_names_write = {\n",
    "    'Grimm': \"Grimm.csv\",\n",
    "    'CLPF': \"GLPF.csv\",\n",
    "    'FoxBoyer' : \"FoxBoyer.csv\",\n",
    "    'Bracci' : 'Bracci.csv'\n",
    "}\n",
    "\n",
    "FoxBoyer_names = []\n",
    "for i in range(1,33):\n",
    "    string = 'TD PL-II C'\n",
    "    if len(str(i))>1:\n",
    "        string += str(i)\n",
    "    else:\n",
    "        string += \"0\" +str(i)\n",
    "    FoxBoyer_names.append(string)\n",
    "\n",
    "children_names_file = {\n",
    "    'Grimm': ['Sandra', 'Wiglaf', 'Eleonora', 'Nele'],\n",
    "    'CLPF': ['Catootje', 'David', 'Elke', 'Enzo', 'Eva', 'Jarmo', 'Leon', 'Leonie', 'Noortje', 'Robin', 'Tirza', 'Tom'],\n",
    "    'FoxBoyer' : FoxBoyer_names,\n",
    "    'Bracci' : ['3028', '3025', '1005', '3022', '3023', '1006', '3024', '2017', '2011', '2027', '1002', '2008', '2015', '1001', '1003']\n",
    "}"
   ]
  },
  {
   "cell_type": "code",
   "execution_count": 33,
   "metadata": {
    "scrolled": true
   },
   "outputs": [
    {
     "name": "stdout",
     "output_type": "stream",
     "text": [
      "Dropped 0 items\n",
      "   Name               Age       word      model  realization  \\\n",
      "0  Leon  P1Y10M28DT0H0M0S  aankleden  ˈankledən  ˈʔaːˌkleːdə   \n",
      "1  Leon  P1Y10M28DT0H0M0S        aap        ˈap         ˈʔap   \n",
      "2  Leon  P1Y10M28DT0H0M0S      ander     ˈɑndəɹ        ˈʔɑnə   \n",
      "3  Leon  P1Y10M28DT0H0M0S       auto       ˈoto       ʔɑˈtoː   \n",
      "4  Leon  P1Y10M28DT0H0M0S        bal       ˈbɑl         ˈpɑl   \n",
      "\n",
      "              rep_model       rep_realization  \n",
      "0  [True, False, False]  [True, False, False]  \n",
      "1                [True]                [True]  \n",
      "2         [True, False]         [True, False]  \n",
      "3         [True, False]         [False, True]  \n",
      "4                [True]                [True]  \n"
     ]
    }
   ],
   "source": [
    "# Read data and add representation column to the data\n",
    "#    Fikkert corpus/CLPF: data2.pkl\n",
    "#    Grimm corpus: Grimm.pkl\n",
    "corpus_name = \"CLPF\"\n",
    "\n",
    "df = read_data(file_names_read[corpus_name])\n",
    "append_representation_to_dataframe(df)\n",
    "orig_length = df.size\n",
    "df.dropna(inplace=True)\n",
    "print(\"Dropped {} items\".format(orig_length-df.size))\n",
    "print(df.head())\n",
    "#print(df)\n",
    "write_df_to_csv(file_names_write[corpus_name], df)"
   ]
  },
  {
   "cell_type": "code",
   "execution_count": 34,
   "metadata": {
    "scrolled": false
   },
   "outputs": [
    {
     "name": "stdout",
     "output_type": "stream",
     "text": [
      "      Name             Age     word   model realization      rep_model  \\\n",
      "5349  Enzo  P2Y5M9DT0H0M0S  shampoo  ˈʃɑmpo   ˈs̠æmˈpoː  [True, False]   \n",
      "5350  Enzo  P2Y5M9DT0H0M0S      dat    ˈdɑt       ˈda̠ˑ         [True]   \n",
      "5351  Enzo  P2Y5M9DT0H0M0S   lekker  ˈlɛkəɹ      ˈlɛkə̆  [True, False]   \n",
      "5352  Enzo  P2Y5M9DT0H0M0S      dit    ˈdɪt        ˈdɪʔ         [True]   \n",
      "5353  Enzo  P2Y5M9DT0H0M0S      die     ˈdi         ˈdi         [True]   \n",
      "...    ...             ...      ...     ...         ...            ...   \n",
      "7434  Enzo  P2Y1M3DT0H0M0S  klimmen  ˈklɪmə      ˈtlɪmə  [True, False]   \n",
      "7435  Enzo  P2Y1M3DT0H0M0S      die     ˈdi         ˈdi         [True]   \n",
      "7436  Enzo  P2Y1M3DT0H0M0S      wil    ˈʋɪl       ˈʋɪɬ̠         [True]   \n",
      "7437  Enzo  P2Y1M3DT0H0M0S      dat    ˈdɑt         ˈdɑ         [True]   \n",
      "7438  Enzo  P2Y1M3DT0H0M0S      dat    ˈdɑt        ˈdɑˑ         [True]   \n",
      "\n",
      "     rep_realization  \n",
      "5349    [True, True]  \n",
      "5350          [True]  \n",
      "5351   [True, False]  \n",
      "5352          [True]  \n",
      "5353          [True]  \n",
      "...              ...  \n",
      "7434   [True, False]  \n",
      "7435          [True]  \n",
      "7436          [True]  \n",
      "7437          [True]  \n",
      "7438          [True]  \n",
      "\n",
      "[2090 rows x 7 columns]\n",
      "23.258064516129032 with length 82\n"
     ]
    },
    {
     "data": {
      "image/png": "[encoded data removed]",
      "text/plain": [
       "<Figure size 432x288 with 1 Axes>"
      ]
     },
     "metadata": {
      "needs_background": "light"
     },
     "output_type": "display_data"
    },
    {
     "name": "stdout",
     "output_type": "stream",
     "text": [
      "None\n",
      "[23.258064516129032 with length 128, 23.483870967741936 with length 130, 23.93548387096774 with length 120, 24.419354838709676 with length 99, 24.64516129032258 with length 86, 25.548387096774192 with length 83, 25.93548387096774 with length 80, 26.451612903225808 with length 249, 27.451612903225808 with length 178, 27.903225806451612 with length 161, 28.35483870967742 with length 140, 28.806451612903224 with length 150, 29.29032258064516 with length 121, 29.903225806451612 with length 100, 30.35483870967742 with length 180]\n",
      "23.258064516129032 with length 128\n"
     ]
    }
   ],
   "source": [
    "# Plot the vocabulary development of a specific child\n",
    "\n",
    "def investigate_child_development(name):\n",
    "    '''\n",
    "    TODO: needs to be adjusted for the patterns and such\n",
    "    '''\n",
    "    child = build_wordlists_for_child(name, df)\n",
    "    #print(child_test.wordlists[0])\n",
    "    child.calculate_total_vocab_dev()\n",
    "\n",
    "child_test = build_wordlists_for_child(children_names_file[corpus_name][3], df)\n",
    "#print(child_test.wordlists[0])\n",
    "child_test.build_complete_wordlists(df)\n",
    "\n",
    "print(child_test.plot_vocab_dev(['TF', 'FT']))\n",
    "print(child_test.complete_wordlists)\n",
    "print(child_test.complete_wordlists[0])"
   ]
  },
  {
   "cell_type": "code",
   "execution_count": 35,
   "metadata": {},
   "outputs": [
    {
     "name": "stdout",
     "output_type": "stream",
     "text": [
      "TF        1019\n",
      "T          691\n",
      "TFF        320\n",
      "FTF        112\n",
      "FT         104\n",
      "TFFF        61\n",
      "F           36\n",
      "FFT         30\n",
      "TTF         20\n",
      "FFTF        19\n",
      "TFTF        17\n",
      "TT          14\n",
      "FTFF        10\n",
      "TFT          7\n",
      "TFFFF        6\n",
      "FFFT         5\n",
      "FFTFF        4\n",
      "TFFT         4\n",
      "TFFTF        3\n",
      "FTFTF        2\n",
      "FFFF         2\n",
      "FF           2\n",
      "FTFT         2\n",
      "FFTFFF       1\n",
      "             1\n",
      "TTFF         1\n",
      "FTFFFF       1\n",
      "FFFTTF       1\n",
      "TFTFF        1\n",
      "FFF          1\n",
      "Name: representation, dtype: int64\n"
     ]
    }
   ],
   "source": [
    "# Investigate what word types occur how often\n",
    "\n",
    "word_type_investigation()"
   ]
  },
  {
   "cell_type": "code",
   "execution_count": 36,
   "metadata": {
    "scrolled": true
   },
   "outputs": [
    {
     "name": "stdout",
     "output_type": "stream",
     "text": [
      "Catootje :\n",
      "5.833333333333333\n",
      "12.087912087912088\n",
      "David :\n",
      "5.150214592274678\n",
      "18.51851851851852\n",
      "Elke :\n",
      "11.080332409972298\n",
      "85.45454545454545\n",
      "Enzo :\n",
      "8.130081300813007\n",
      "30.0\n",
      "Eva :\n",
      "8.93371757925072\n",
      "62.96296296296296\n",
      "Jarmo :\n",
      "12.063492063492063\n",
      "68.57142857142857\n",
      "Leon :\n",
      "3.602305475504323\n",
      "22.916666666666664\n",
      "Leonie :\n",
      "7.87037037037037\n",
      "8.0\n",
      "Noortje :\n",
      "7.707910750507099\n",
      "54.54545454545454\n",
      "Robin :\n",
      "6.279434850863422\n",
      "37.03703703703704\n",
      "Tirza :\n",
      "6.237816764132553\n",
      "57.49999999999999\n",
      "Tom :\n",
      "9.632224168126093\n",
      "43.42105263157895\n"
     ]
    }
   ],
   "source": [
    "# Run reproduction of tables\n",
    "#children_names = ['Catootje', 'David', 'Elke', 'Enzo', 'Eva', 'Jarmo', 'Leon', 'Leonie', 'Noortje', 'Robin', 'Tirza', 'Tom']\n",
    "\n",
    "run_reproduce_tables(children_names_file[corpus_name])"
   ]
  },
  {
   "cell_type": "markdown",
   "metadata": {},
   "source": [
    "### Stages\n",
    "- Stage 1: disyllables realized as monosyllabic\n",
    "- Stage 2: both syllables realized, but stress on first syllable\n",
    "- Stage 3: both syllables realized with equal stress\n",
    "- Stage 4: adult like stress realization"
   ]
  },
  {
   "cell_type": "code",
   "execution_count": 37,
   "metadata": {
    "scrolled": false
   },
   "outputs": [
    {
     "name": "stdout",
     "output_type": "stream",
     "text": [
      "{'FT': (array([2., 3., 1., 4., 0., 0., 3., 7., 3., 7., 3., 1., 5., 2., 6.]), {'T': array([1., 2., 0., 1., 0., 0., 0., 1., 1., 3., 0., 0., 1., 0., 3.]), 'TF': array([1., 0., 0., 1., 0., 0., 0., 0., 0., 0., 0., 0., 1., 0., 2.]), 'TT': array([0., 0., 0., 1., 0., 0., 0., 0., 0., 0., 0., 1., 1., 0., 0.]), 'FT': array([0., 1., 0., 0., 0., 0., 2., 5., 2., 4., 3., 0., 2., 2., 1.])})}\n"
     ]
    },
    {
     "data": {
      "image/png": "[encoded data removed]",
      "text/plain": [
       "<Figure size 432x288 with 1 Axes>"
      ]
     },
     "metadata": {
      "needs_background": "light"
     },
     "output_type": "display_data"
    },
    {
     "name": "stderr",
     "output_type": "stream",
     "text": [
      "<ipython-input-13-8df1f7cb3b7d>:243: RuntimeWarning: invalid value encountered in true_divide\n",
      "  rp_plot = counts[p][1][rp]/counts[p][0]\n",
      "<ipython-input-13-8df1f7cb3b7d>:243: RuntimeWarning: invalid value encountered in true_divide\n",
      "  rp_plot = counts[p][1][rp]/counts[p][0]\n",
      "<ipython-input-13-8df1f7cb3b7d>:243: RuntimeWarning: invalid value encountered in true_divide\n",
      "  rp_plot = counts[p][1][rp]/counts[p][0]\n",
      "<ipython-input-13-8df1f7cb3b7d>:243: RuntimeWarning: invalid value encountered in true_divide\n",
      "  rp_plot = counts[p][1][rp]/counts[p][0]\n"
     ]
    },
    {
     "data": {
      "image/png": "[encoded data removed]",
      "text/plain": [
       "<Figure size 432x288 with 1 Axes>"
      ]
     },
     "metadata": {
      "needs_background": "light"
     },
     "output_type": "display_data"
    },
    {
     "data": {
      "image/png": "[encoded data removed]",
      "text/plain": [
       "<Figure size 432x288 with 1 Axes>"
      ]
     },
     "metadata": {
      "needs_background": "light"
     },
     "output_type": "display_data"
    },
    {
     "data": {
      "image/png": "[encoded data removed]",
      "text/plain": [
       "<Figure size 432x288 with 1 Axes>"
      ]
     },
     "metadata": {
      "needs_background": "light"
     },
     "output_type": "display_data"
    },
    {
     "data": {
      "image/png": "[encoded data removed]",
      "text/plain": [
       "<Figure size 432x288 with 1 Axes>"
      ]
     },
     "metadata": {
      "needs_background": "light"
     },
     "output_type": "display_data"
    }
   ],
   "source": [
    "iamb_bisyl_phases = ['T', 'TF', 'TT', 'FT']\n",
    "patterns = {'FT': iamb_bisyl_phases}\n",
    "counts = calc_phase_1_dev(child_test, patterns)#['FT', 'FT', 'FT', 'FT', 'FT'], ['T', 'TF', 'TT', 'FT', 'AA'])\n",
    "print(counts)\n",
    "\n",
    "child_test.plot_count_patterns(counts, mode='absolute')\n",
    "child_test.plot_count_patterns(counts, mode='relative')\n",
    "child_test.plot_count_patterns(counts, mode='moving_average')\n",
    "child_test.plot_count_patterns(counts, mode='per_100')\n",
    "child_test.plot_count_patterns(counts, mode='per_100_moving')\n"
   ]
  },
  {
   "cell_type": "markdown",
   "metadata": {},
   "source": [
    "# Todo\n",
    "\n",
    "- Foxboyer and Bracci do not build word lists, probably because they are crosssectional instead of longitudinal corpora; maybe fix so that they build at least one wordlist for the one meassuring moment\n",
    "\n",
    "\n",
    "## Notes\n",
    "- Stuttgart corpus does not include model IPA\n",
    "- Zink corpus is on the brabbel period and therefore does not contain much word information\n",
    "- Utrecht corpus is of children with language problems and has a lot of missing IPA transcriptions"
   ]
  }
 ],
 "metadata": {
  "kernelspec": {
   "display_name": "jupyternotebookvenv",
   "language": "python",
   "name": "jupyternotebookvenv"
  },
  "language_info": {
   "codemirror_mode": {
    "name": "ipython",
    "version": 3
   },
   "file_extension": ".py",
   "mimetype": "text/x-python",
   "name": "python",
   "nbconvert_exporter": "python",
   "pygments_lexer": "ipython3",
   "version": "3.8.10"
  }
 },
 "nbformat": 4,
 "nbformat_minor": 4
}
